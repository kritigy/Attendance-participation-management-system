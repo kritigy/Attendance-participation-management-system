{
 "cells": [
  {
   "cell_type": "markdown",
   "id": "46967da4",
   "metadata": {},
   "source": [
    "# Snack\n",
    "\n"
   ]
  },
  {
   "cell_type": "markdown",
   "id": "799f77ec",
   "metadata": {},
   "source": [
    "## Data"
   ]
  },
  {
   "cell_type": "code",
   "execution_count": 5,
   "id": "0a62d09a",
   "metadata": {},
   "outputs": [],
   "source": [
    "MENU = {\n",
    "    \"fries\": 120,         # NPR\n",
    "    \"burger\": 280,\n",
    "    \"momo\": 150,\n",
    "    \"coffee\": 90,\n",
    "    \"tea\": 40,\n",
    "}\n",
    "\n",
    "raw_customer_name = \"   Manasvi   \"\n",
    "raw_quantities = {\"fries\": \"2\", \"burger\": \"1\", \"coffee\": \"0\"}\n",
    "membership = True "
   ]
  },
  {
   "cell_type": "markdown",
   "id": "2715bf46",
   "metadata": {},
   "source": [
    "## Strings, escape sequences, and f-strings"
   ]
  },
  {
   "cell_type": "code",
   "execution_count": 3,
   "id": "e536829f",
   "metadata": {},
   "outputs": [
    {
     "name": "stdout",
     "output_type": "stream",
     "text": [
      "Hello World\n",
      "This is\n",
      "a multi-line \n",
      "Hello\n",
      "World\n",
      "Hello\tWorld\n",
      "He said, \"Foods are Delicious!\"\n",
      "Welcome to Snack, Hello World!\n"
     ]
    }
   ],
   "source": [
    "single_quotes = 'Hello'\n",
    "double_quotes = \"World\"\n",
    "multiline = \"\"\"This is\n",
    "a multi-line \"\"\"\n",
    "\n",
    "newline = \"Hello\\nWorld\"\n",
    "tabbed = \"Hello\\tWorld\"\n",
    "quote = \"He said, \\\"Foods are Delicious!\\\"\"\n",
    "\n",
    "print(single_quotes, double_quotes)\n",
    "print(multiline)\n",
    "print(newline)\n",
    "print(tabbed)\n",
    "print(quote)\n",
    "\n",
    "# f-strings\n",
    "greeting = f\"Welcome to Snack, {single_quotes} {double_quotes}!\"\n",
    "print(greeting)"
   ]
  },
  {
   "cell_type": "markdown",
   "id": "2268b3ec",
   "metadata": {},
   "source": [
    "## String methods"
   ]
  },
  {
   "cell_type": "code",
   "execution_count": 6,
   "id": "786af09b",
   "metadata": {},
   "outputs": [
    {
     "name": "stdout",
     "output_type": "stream",
     "text": [
      "   python is fun!   \n",
      "   PYTHON IS FUN!   \n",
      "Python is Fun!\n",
      "   Python is Awesome!   \n",
      "True\n",
      "Customer -> 'Manasvi' (from raw '   Manasvi   ')\n"
     ]
    }
   ],
   "source": [
    "text = \"   Python is Fun!   \"\n",
    "print(text.lower())\n",
    "print(text.upper())\n",
    "print(text.strip())\n",
    "print(text.replace(\"Fun\", \"Awesome\"))\n",
    "print(\"Python\" in text)  # substring check\n",
    "\n",
    "customer = raw_customer_name.strip().title()\n",
    "print(f\"Customer -> '{customer}' (from raw '{raw_customer_name}')\")"
   ]
  },
  {
   "cell_type": "markdown",
   "id": "b3e5bb92",
   "metadata": {},
   "source": [
    "## Numbers & arithmetic + type conversion"
   ]
  },
  {
   "cell_type": "code",
   "execution_count": 8,
   "id": "3a2db91f",
   "metadata": {},
   "outputs": [
    {
     "name": "stdout",
     "output_type": "stream",
     "text": [
      "<class 'int'> <class 'float'> <class 'complex'>\n",
      "7\n",
      "3\n",
      "10\n",
      "2.5\n",
      "2\n",
      "1\n",
      "25\n",
      "2 1 0\n"
     ]
    }
   ],
   "source": [
    "integer = 10\n",
    "floating = 3.14\n",
    "complex_number = 2 + 3j\n",
    "print(type(integer), type(floating), type(complex_number))\n",
    "\n",
    "# Arithmetic\n",
    "print(5 + 2)    \n",
    "print(5 - 2)   \n",
    "print(5 * 2)    \n",
    "print(5 / 2)    \n",
    "print(5 // 2)  \n",
    "print(5 % 2)    \n",
    "print(5 ** 2)  \n",
    "\n",
    "# Type conversion (imagine strings from a web form)\n",
    "qty_fries = int(raw_quantities[\"fries\"])\n",
    "qty_burger = int(raw_quantities[\"burger\"])\n",
    "qty_coffee = int(raw_quantities[\"coffee\"])\n",
    "print(qty_fries, qty_burger, qty_coffee)"
   ]
  },
  {
   "cell_type": "markdown",
   "id": "0650108a",
   "metadata": {},
   "source": [
    "## Comparisons, conditionals, ternary, logical ops, short-circuit, chaining"
   ]
  },
  {
   "cell_type": "code",
   "execution_count": 9,
   "id": "edb1c2be",
   "metadata": {},
   "outputs": [
    {
     "name": "stdout",
     "output_type": "stream",
     "text": [
      "True\n",
      "True\n",
      "True\n",
      "False\n",
      "Adult\n",
      "Adult\n",
      "False\n",
      "True\n",
      "False\n",
      "False\n",
      "True\n",
      "True\n"
     ]
    }
   ],
   "source": [
    "# Comparisons\n",
    "print(5 == 5)\n",
    "print(5 != 3)\n",
    "print(5 > 3)\n",
    "print(5 <= 3)\n",
    "\n",
    "# Conditional\n",
    "age = 18\n",
    "if age >= 18:\n",
    "    print(\"Adult\")\n",
    "else:\n",
    "    print(\"Minor\")\n",
    "\n",
    "# Ternary\n",
    "age = 20\n",
    "status = \"Adult\" if age >= 18 else \"Minor\"\n",
    "print(status)\n",
    "\n",
    "# Logical ops\n",
    "print(True and False)\n",
    "print(True or False)\n",
    "print(not True)\n",
    "\n",
    "# Short-circuit demo\n",
    "def call_me():\n",
    "    print(\"call_me() ran\")\n",
    "    return True\n",
    "\n",
    "print(False and call_me())  # won't call\n",
    "print(True or call_me())    # won't call\n",
    "\n",
    "# Chained comparisons\n",
    "x = 5\n",
    "print(1 < x < 10) "
   ]
  },
  {
   "cell_type": "markdown",
   "id": "164aac42",
   "metadata": {},
   "source": [
    "## Loops: for, for..else, nested; iterables & while"
   ]
  },
  {
   "cell_type": "code",
   "execution_count": 10,
   "id": "4ee54a45",
   "metadata": {},
   "outputs": [
    {
     "name": "stdout",
     "output_type": "stream",
     "text": [
      "Order: {'fries': 2, 'burger': 1}\n",
      "momo not in order\n",
      "fries -> batch 1: 10 units\n",
      "fries -> batch 2: 8 units\n",
      "burger -> batch 1: 5 units\n",
      "burger -> batch 2: 2 units\n",
      "coffee -> batch 1: 20 units\n",
      "coffee -> batch 2: 15 units\n",
      "First order pair via iterator: ('fries', 2)\n",
      "Preparing... 3\n",
      "Preparing... 2\n",
      "Preparing... 1\n",
      "Order ready!\n"
     ]
    }
   ],
   "source": [
    "#Loops\n",
    "raw_order = raw_quantities\n",
    "order = {}\n",
    "for item, qty_str in raw_order.items():\n",
    "    qty = int(qty_str)\n",
    "    if qty > 0:\n",
    "        order[item] = qty\n",
    "print(\"Order:\", order)\n",
    "\n",
    "# for..else — check if a certain item exists\n",
    "search_item = \"momo\"\n",
    "for key in order:\n",
    "    if key == search_item:\n",
    "        print(\"Found momo in order\")\n",
    "        break\n",
    "else:\n",
    "    print(\"momo not in order\")\n",
    "\n",
    "# Nested loops \n",
    "# stock grid\n",
    "stock_batches = {\n",
    "    \"fries\": [10, 8],\n",
    "    \"burger\": [5, 2],\n",
    "    \"coffee\": [20, 15],\n",
    "}\n",
    "for item, batches in stock_batches.items():\n",
    "    for idx, batch in enumerate(batches):\n",
    "        print(f\"{item} -> batch {idx+1}: {batch} units\")\n",
    "\n",
    "# Iterables \n",
    "iters = iter(order.items())\n",
    "first_pair = next(iters, None)\n",
    "print(\"First order pair via iterator:\", first_pair)\n",
    "\n",
    "# While loop \n",
    "count = 3\n",
    "while count > 0:\n",
    "    print(\"Preparing...\", count)\n",
    "    count -= 1\n",
    "print(\"Order ready!\")"
   ]
  },
  {
   "cell_type": "markdown",
   "id": "227ff971",
   "metadata": {},
   "source": [
    "## Functions — positional, keyword, default params, and *args"
   ]
  },
  {
   "cell_type": "code",
   "execution_count": 12,
   "id": "42dc7b43",
   "metadata": {},
   "outputs": [
    {
     "name": "stdout",
     "output_type": "stream",
     "text": [
      "Units: 3, Subtotal NPR 520\n",
      "After discounts: NPR 494.00\n",
      "Grand total (with tax): NPR 558.22\n"
     ]
    }
   ],
   "source": [
    "def line_total(item: str, qty: int, *, price_list: dict[str, int]) -> int:\n",
    "    \"\"\"Compute total for a single line item.\n",
    "\n",
    "    Uses a keyword-only argument 'price_list' to show keyword args.\"\"\"\n",
    "    price = price_list.get(item, 0)\n",
    "    return price * qty\n",
    "\n",
    "def add_all(*numbers):\n",
    "    \"\"\"Return the sum of any number of positional numeric args (*args).\"\"\"\n",
    "    return sum(numbers)\n",
    "\n",
    "def apply_discounts(subtotal: float, member: bool, bulk_units: int) -> float:\n",
    "    \"\"\"Simple discount rules using logical ops and comparisons.\"\"\"\n",
    "    discount = 0.0\n",
    "    # Membership gets 5%\n",
    "    if member:\n",
    "        discount += 0.05\n",
    "    # Bulk discount if 5 <= units < 10\n",
    "    if 5 <= bulk_units < 10:\n",
    "        discount += 0.03\n",
    "    # Big bulk discount if units >= 10\n",
    "    if bulk_units >= 10:\n",
    "        discount += 0.07\n",
    "    return subtotal * (1 - discount)\n",
    "\n",
    "def total_with_tax(amount: float, tax_rate: float = 0.13) -> float:\n",
    "    \"\"\"Apply tax with a default argument (13% by default).\"\"\"\n",
    "    return amount * (1 + tax_rate)\n",
    "\n",
    "units = add_all(*order.values()) if order else 0\n",
    "sub = 0\n",
    "for item, qty in order.items():\n",
    "    sub += line_total(item, qty, price_list=MENU)\n",
    "\n",
    "sub_after_disc = apply_discounts(sub, membership, units)\n",
    "grand_total = total_with_tax(sub_after_disc)  \n",
    "\n",
    "print(f\"Units: {units}, Subtotal NPR {sub}\")\n",
    "print(f\"After discounts: NPR {sub_after_disc:.2f}\")\n",
    "print(f\"Grand total (with tax): NPR {grand_total:.2f}\")"
   ]
  },
  {
   "cell_type": "markdown",
   "id": "6f94fdee",
   "metadata": {},
   "source": [
    "## receipt"
   ]
  },
  {
   "cell_type": "code",
   "execution_count": 13,
   "id": "ebd5c04c",
   "metadata": {},
   "outputs": [
    {
     "name": "stdout",
     "output_type": "stream",
     "text": [
      "   Snack Shack — Receipt\n",
      "Customer: Manasvi\n",
      "Membership: Yes\n",
      "\n",
      "Fries      x 2  @ NPR 120  = NPR 240\n",
      "Burger     x 1  @ NPR 280  = NPR 280\n",
      "------------------------------\n",
      "Items: 3  Subtotal: NPR 520\n",
      "After Discount: NPR 494.00\n",
      "Total (Tax incl.): NPR 558.22\n",
      "Thank you!\n",
      "\n"
     ]
    }
   ],
   "source": [
    "def build_receipt(customer_name: str, order: dict[str, int], *, price_list: dict[str, int], member: bool) -> str:\n",
    "    lines = []\n",
    "    header = f\"\"\"\\\n",
    "   Snack Shack — Receipt\n",
    "Customer: {customer_name}\n",
    "Membership: {'Yes' if member else 'No'}\n",
    "\"\"\"\n",
    "    lines.append(header)\n",
    "\n",
    "    # Body\n",
    "    subtotal = 0\n",
    "    for item, qty in order.items():\n",
    "        price = price_list.get(item, 0)\n",
    "        line = f\"{item.title():<10} x {qty:<2} @ NPR {price:<4} = NPR {price*qty}\"\n",
    "        lines.append(line)\n",
    "        subtotal += price * qty\n",
    "\n",
    "    # Summary\n",
    "    units = sum(order.values())\n",
    "    after_disc = apply_discounts(subtotal, member, units)\n",
    "    total = total_with_tax(after_disc)\n",
    "    lines.append(\"-\" * 30)\n",
    "    lines.append(f\"Items: {units}  Subtotal: NPR {subtotal}\")\n",
    "    lines.append(f\"After Discount: NPR {after_disc:.2f}\")\n",
    "    lines.append(f\"Total (Tax incl.): NPR {total:.2f}\")\n",
    "    lines.append(\"Thank you!\\n\")\n",
    "    return \"\\n\".join(lines)\n",
    "\n",
    "print(build_receipt(customer, order, price_list=MENU, member=membership))"
   ]
  },
  {
   "cell_type": "code",
   "execution_count": null,
   "id": "c7156b0c-a253-4759-a4cf-01154e252aba",
   "metadata": {},
   "outputs": [],
   "source": []
  }
 ],
 "metadata": {
  "kernelspec": {
   "display_name": "Python 3 (ipykernel)",
   "language": "python",
   "name": "python3"
  },
  "language_info": {
   "codemirror_mode": {
    "name": "ipython",
    "version": 3
   },
   "file_extension": ".py",
   "mimetype": "text/x-python",
   "name": "python",
   "nbconvert_exporter": "python",
   "pygments_lexer": "ipython3",
   "version": "3.11.5"
  }
 },
 "nbformat": 4,
 "nbformat_minor": 5
}
