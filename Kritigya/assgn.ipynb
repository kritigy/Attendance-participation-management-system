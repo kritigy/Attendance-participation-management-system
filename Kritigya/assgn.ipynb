{
 "cells": [
  {
   "cell_type": "code",
   "execution_count": 4,
   "id": "b5852e9b",
   "metadata": {},
   "outputs": [
    {
     "name": "stdout",
     "output_type": "stream",
     "text": [
      "Title: Python Basics\n",
      "Author: Kritigya Katwal\n",
      "Price: $50\n",
      "Price updated to $45\n",
      "Discount applied! New price: $40.5\n"
     ]
    }
   ],
   "source": [
    "\n",
    "class Book:\n",
    "    def __init__(self, title, author, price):\n",
    "        self.title = title\n",
    "        self.author = author\n",
    "        self.price = price\n",
    "    \n",
    "    \n",
    "    def display_info(self):\n",
    "        print(f\"Title: {self.title}\")\n",
    "        print(f\"Author: {self.author}\")\n",
    "        print(f\"Price: ${self.price}\")\n",
    "    \n",
    "    \n",
    "    def update_price(self, new_price):\n",
    "        self.price = new_price\n",
    "        print(f\"Price updated to ${self.price}\")\n",
    "\n",
    "\n",
    "def apply_discount(book, discount_percent):\n",
    "    discount_amount = book.price * discount_percent / 100\n",
    "    book.price -= discount_amount\n",
    "    print(f\"Discount applied! New price: ${book.price}\")\n",
    "\n",
    "\n",
    "my_book = Book(\"Python Basics\", \"Kritigya Katwal\", 50)\n",
    "my_book.display_info()\n",
    "\n",
    "my_book.update_price(45)\n",
    "\n",
    "\n",
    "apply_discount(my_book, 10)\n"
   ]
  }
 ],
 "metadata": {
  "kernelspec": {
   "display_name": "Python 3",
   "language": "python",
   "name": "python3"
  },
  "language_info": {
   "codemirror_mode": {
    "name": "ipython",
    "version": 3
   },
   "file_extension": ".py",
   "mimetype": "text/x-python",
   "name": "python",
   "nbconvert_exporter": "python",
   "pygments_lexer": "ipython3",
   "version": "undefined.undefined.undefined"
  }
 },
 "nbformat": 4,
 "nbformat_minor": 5
}
