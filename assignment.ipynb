{
 "cells": [
  {
   "cell_type": "code",
   "execution_count": 2,
   "id": "11943225",
   "metadata": {},
   "outputs": [
    {
     "name": "stdout",
     "output_type": "stream",
     "text": [
      "Hello, Shivam!\n",
      "12\n",
      "Name: Shivam, Roll No: 10\n",
      "24\n",
      "5.0\n"
     ]
    }
   ],
   "source": [
    "# Simple Python Classes & Functions\n",
    "\n",
    "# Function to greet a user\n",
    "def greet(name):\n",
    "    return f\"Hello, {name}!\"\n",
    "\n",
    "# Function to add two numbers\n",
    "def add_numbers(a, b):\n",
    "    return a + b\n",
    "\n",
    "# Class representing a Student\n",
    "class Student:\n",
    "    def __init__(self, name, roll_no):\n",
    "        self.name = name\n",
    "        self.roll_no = roll_no\n",
    "    \n",
    "    def display_info(self):\n",
    "        return f\"Name: {self.name}, Roll No: {self.roll_no}\"\n",
    "\n",
    "# Class representing a Calculator\n",
    "class Calculator:\n",
    "    def multiply(self, a, b):\n",
    "        return a * b\n",
    "    \n",
    "    def divide(self, a, b):\n",
    "        if b == 0:\n",
    "            return \"Error: Division by zero\"\n",
    "        return a / b\n",
    "\n",
    "# Test the functions & classes\n",
    "print(greet(\"Shivam\"))\n",
    "print(add_numbers(5, 7))\n",
    "\n",
    "student1 = Student(\"Shivam\", 10)\n",
    "print(student1.display_info())\n",
    "\n",
    "calc = Calculator()\n",
    "print(calc.multiply(6, 4))\n",
    "print(calc.divide(10, 2))\n"
   ]
  }
 ],
 "metadata": {
  "kernelspec": {
   "display_name": "Python 3",
   "language": "python",
   "name": "python3"
  },
  "language_info": {
   "codemirror_mode": {
    "name": "ipython",
    "version": 3
   },
   "file_extension": ".py",
   "mimetype": "text/x-python",
   "name": "python",
   "nbconvert_exporter": "python",
   "pygments_lexer": "ipython3",
   "version": "3.12.0"
  }
 },
 "nbformat": 4,
 "nbformat_minor": 5
}
